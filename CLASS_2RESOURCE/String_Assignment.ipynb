{
 "cells": [
  {
   "cell_type": "markdown",
   "id": "1cd7eca5",
   "metadata": {},
   "source": [
    "### 1. What is a string in Python?\n",
    "\n",
    "# clip"
   ]
  },
  {
   "cell_type": "markdown",
   "id": "ce62e446",
   "metadata": {},
   "source": [
    "### 2. How do you create a multi-line string in Python?\n",
    "\n",
    "# clip"
   ]
  },
  {
   "cell_type": "markdown",
   "id": "a65a7df3",
   "metadata": {},
   "source": [
    "### 3. How can you access individual characters in a string in Python?\n",
    "\n",
    "# clip"
   ]
  },
  {
   "cell_type": "markdown",
   "id": "08a7b6e8",
   "metadata": {},
   "source": [
    "### 4. Explain the difference between str() and repr() in Python.\n",
    "\n",
    "# clip"
   ]
  },
  {
   "cell_type": "markdown",
   "id": "45cf92d3",
   "metadata": {},
   "source": [
    "### 5. Write a Python function to reverse a string.\n",
    "\n",
    "# clip"
   ]
  },
  {
   "cell_type": "markdown",
   "id": "be48a358",
   "metadata": {},
   "source": [
    "### 6. Explain the usage of string formatting in Python with examples.\n",
    "\n",
    "# clip"
   ]
  },
  {
   "cell_type": "markdown",
   "id": "00082ef6",
   "metadata": {},
   "source": [
    "### 7. What are escape characters in Python strings? Provide examples.\n",
    "\n",
    "# clip"
   ]
  },
  {
   "cell_type": "markdown",
   "id": "ab31448e",
   "metadata": {},
   "source": [
    "### 8. How do you check if a string contains a specific substring in Python?\n",
    "\n",
    "# clip"
   ]
  },
  {
   "cell_type": "markdown",
   "id": "29abc567",
   "metadata": {},
   "source": [
    "### 9. What is the difference between the find() and index() methods in Python strings?\n",
    "\n",
    "# clip"
   ]
  },
  {
   "cell_type": "markdown",
   "id": "e6357542",
   "metadata": {},
   "source": [
    "### 10. Explain the concept of slicing in Python strings with examples.\n",
    "\n",
    "# clip"
   ]
  }
 ],
 "metadata": {},
 "nbformat": 4,
 "nbformat_minor": 5
}