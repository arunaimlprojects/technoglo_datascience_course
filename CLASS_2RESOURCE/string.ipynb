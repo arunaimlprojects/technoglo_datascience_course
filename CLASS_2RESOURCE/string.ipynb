{
 "cells": [
  {
   "cell_type": "code",
   "execution_count": null,
   "metadata": {},
   "outputs": [],
   "source": [
    "# Step-by-Step String Tutorial in Python\n",
    "\n",
    "# Step 1: What is a String?\n",
    "s1 = 'Hello'\n",
    "s2 = \"World\"\n",
    "s3 = '''Python'''\n",
    "print(s1, s2, s3)  # Output: Hello World Python\n",
    "\n",
    "# Step 2: Print a String\n",
    "s = \"Welcome to Python\"\n",
    "print(s)  # Output: Welcome to Python\n",
    "\n",
    "# Step 3: Length of a String\n",
    "s = \"Python\"\n",
    "print(len(s))  # Output: 6\n",
    "\n",
    "# Step 4: String Indexing\n",
    "s = \"Python\"\n",
    "print(s[0])   # Output: P\n",
    "print(s[-1])  # Output: n\n",
    "\n",
    "# Step 5: String Slicing\n",
    "s = \"Programming\"\n",
    "print(s[0:6])  # Output: Progra\n",
    "print(s[:4])   # Output: Prog\n",
    "\n",
    "# Step 6: Step Argument in Slicing\n",
    "s = \"Programming\"\n",
    "print(s[0:10:2])  # Output: Pormig\n",
    "\n",
    "# Step 7: Reverse a String\n",
    "s = \"Python\"\n",
    "print(s[::-1])  # Output: nohtyP\n",
    "\n",
    "# Step 8: String Concatenation\n",
    "s1 = \"Hello\"\n",
    "s2 = \"World\"\n",
    "print(s1 + \" \" + s2)  # Output: Hello World\n",
    "\n",
    "# Step 9: String Repetition\n",
    "s = \"Hi! \"\n",
    "print(s * 3)  # Output: Hi! Hi! Hi! \n",
    "\n",
    "# Step 10: Membership Test\n",
    "s = \"Python is great\"\n",
    "print(\"Python\" in s)    # Output: True\n",
    "print(\"Java\" not in s)  # Output: True\n",
    "\n",
    "# Step 11: Convert to Uppercase\n",
    "s = \"python\"\n",
    "print(s.upper())  # Output: PYTHON\n",
    "\n",
    "# Step 12: Convert to Lowercase\n",
    "s = \"PYTHON\"\n",
    "print(s.lower())  # Output: python\n",
    "\n",
    "# Step 13: Strip Extra Spaces\n",
    "s = \"   Hello Python   \"\n",
    "print(s.strip())  # Output: Hello Python\n",
    "\n",
    "# Step 14: Replace Substring\n",
    "s = \"I like Python\"\n",
    "print(s.replace(\"Python\", \"Java\"))  # Output: I like Java\n",
    "\n",
    "# Step 15: Split a String\n",
    "s = \"Python,Java,C++\"\n",
    "print(s.split(\",\"))  # Output: ['Python', 'Java', 'C++']\n",
    "\n",
    "# Step 16: Join Strings\n",
    "words = [\"Python\", \"is\", \"fun\"]\n",
    "print(\" \".join(words))  # Output: Python is fun\n",
    "\n",
    "# Step 17: Startswith and Endswith\n",
    "s = \"Python programming\"\n",
    "print(s.startswith(\"Python\"))  # Output: True\n",
    "print(s.endswith(\"ing\"))       # Output: True\n",
    "\n",
    "# Step 18: Find Substring\n",
    "s = \"I like Python\"\n",
    "print(s.find(\"Python\"))  # Output: 7\n",
    "\n",
    "# Step 19: String Formatting\n",
    "name = \"Alice\"\n",
    "age = 25\n",
    "print(f\"My name is {name} and I am {age} years old.\")  # Output: My name is Alice and I am 25 years old.\n",
    "\n",
    "# Step 20: Escape Characters\n",
    "s = \"He said, \\\"Python is amazing!\\\"\"\n",
    "print(s)  # Output: He said, \"Python is amazing!\"\n",
    "\n",
    "# Additional 20 Questions with Examples\n",
    "\n",
    "# Q1: Check if String is Numeric\n",
    "s = \"12345\"\n",
    "print(s.isnumeric())  # Output: True\n",
    "\n",
    "# Q2: Check if String is Alphabetic\n",
    "s = \"Python\"\n",
    "print(s.isalpha())  # Output: True\n",
    "\n",
    "# Q3: Convert to Title Case\n",
    "s = \"python programming\"\n",
    "print(s.title())  # Output: Python Programming\n",
    "\n",
    "# Q4: Count Occurrences of a Substring\n",
    "s = \"banana\"\n",
    "print(s.count(\"a\"))  # Output: 3\n",
    "\n",
    "# Q5: Center Align a String\n",
    "s = \"Python\"\n",
    "print(s.center(10, \"*\"))  # Output: **Python**\n",
    "\n",
    "# Q6: Check if String is Alphanumeric\n",
    "s = \"Python123\"\n",
    "print(s.isalnum())  # Output: True\n",
    "\n",
    "# Q7: Check if String is Uppercase\n",
    "s = \"PYTHON\"\n",
    "print(s.isupper())  # Output: True\n",
    "\n",
    "# Q8: Check if String is Lowercase\n",
    "s = \"python\"\n",
    "print(s.islower())  # Output: True\n",
    "\n",
    "# Q9: Convert String to Swapcase\n",
    "s = \"Python Programming\"\n",
    "print(s.swapcase())  # Output: pYTHON pROGRAMMING\n",
    "\n",
    "# Q10: Find Index of a Substring\n",
    "s = \"I like Python\"\n",
    "print(s.index(\"Python\"))  # Output: 7\n",
    "\n",
    "# Q11: Pad String with Zeros\n",
    "s = \"42\"\n",
    "print(s.zfill(5))  # Output: 00042\n",
    "\n",
    "# Q12: Check if String is a Space\n",
    "s = \"   \"\n",
    "print(s.isspace())  # Output: True\n",
    "\n",
    "# Q13: Remove Prefix from String\n",
    "s = \"unhappy\"\n",
    "print(s.removeprefix(\"un\"))  # Output: happy\n",
    "\n",
    "# Q14: Remove Suffix from String\n",
    "s = \"testing\"\n",
    "print(s.removesuffix(\"ing\"))  # Output: test\n",
    "\n",
    "# Q15: Capitalize First Letter\n",
    "s = \"python\"\n",
    "print(s.capitalize())  # Output: Python\n",
    "\n",
    "# Q16: Make String Casefolded (for case-insensitive comparison)\n",
    "s1 = \"Python\"\n",
    "s2 = \"python\"\n",
    "print(s1.casefold() == s2.casefold())  # Output: True\n",
    "\n",
    "# Q17: Encode String to Bytes\n",
    "s = \"Python\"\n",
    "print(s.encode())  # Output: b'Python'\n",
    "\n",
    "# Q18: Check if String Ends with Specific Suffix\n",
    "s = \"example.txt\"\n",
    "print(s.endswith(\".txt\"))  # Output: True\n",
    "\n",
    "# Q19: Check if String Starts with Specific Prefix\n",
    "s = \"example.txt\"\n",
    "print(s.startswith(\"ex\"))  # Output: True\n",
    "\n",
    "# Q20: Create Multiline String\n",
    "s = \"\"\"This is a multiline\n",
    "string in Python.\"\"\"\n",
    "print(s)\n"
   ]
  },
  {
   "cell_type": "markdown",
   "metadata": {},
   "source": [
    "Step 1: String क्या है?\n",
    "String characters का collection होता है जिसे single, double, या triple quotes के अंदर लिखा जाता है।"
   ]
  },
  {
   "cell_type": "code",
   "execution_count": null,
   "metadata": {},
   "outputs": [],
   "source": [
    "\n",
    "# Example\n",
    "s1 = 'Hello'\n",
    "s2 = \"World\"\n",
    "s3 = '''Python'''\n",
    "print(s1, s2, s3)  # Output: Hello World Python\n"
   ]
  },
  {
   "cell_type": "code",
   "execution_count": null,
   "metadata": {},
   "outputs": [],
   "source": [
    "s = \"Python\"\n",
    "print(len(s))  # Output: 6\n"
   ]
  },
  {
   "cell_type": "code",
   "execution_count": null,
   "metadata": {},
   "outputs": [],
   "source": [
    "s = \"Python\"\n",
    "print(s[0])   # Output: P\n",
    "print(s[-1])  # Output: n\n"
   ]
  },
  {
   "cell_type": "markdown",
   "metadata": {},
   "source": [
    "Step 5: Slicing in Strings\n",
    "String के किसी हिस्से को निकालने के लिए slicing का उपयोग करते हैं। Format: string[start:end]."
   ]
  },
  {
   "cell_type": "code",
   "execution_count": null,
   "metadata": {},
   "outputs": [],
   "source": [
    "s = \"Programming\"\n",
    "print(s[0:6])  # Output: Progra\n",
    "print(s[:4])   # Output: Prog\n"
   ]
  },
  {
   "cell_type": "markdown",
   "metadata": {},
   "source": [
    "s = \"Programming\"\n",
    "print(s[0:10:2])  # Output: Pormig\n"
   ]
  },
  {
   "cell_type": "markdown",
   "metadata": {},
   "source": [
    "Step 7: Reverse String\n",
    "String को reverse करने के लिए step argument का उपयोग करते हैं।"
   ]
  },
  {
   "cell_type": "code",
   "execution_count": null,
   "metadata": {},
   "outputs": [],
   "source": [
    "s = \"Python\"\n",
    "print(s[::-1])  # Output: nohtyP\n"
   ]
  },
  {
   "cell_type": "markdown",
   "metadata": {},
   "source": [
    "Step 8: String Concatenation\n",
    "Strings को जोड़ने के लिए + operator का उपयोग करें।"
   ]
  },
  {
   "cell_type": "code",
   "execution_count": null,
   "metadata": {},
   "outputs": [],
   "source": [
    "s1 = \"Hello\"\n",
    "s2 = \"World\"\n",
    "print(s1 + \" \" + s2)  # Output: Hello World\n"
   ]
  },
  {
   "cell_type": "markdown",
   "metadata": {},
   "source": [
    "Step 9: String Repetition\n",
    "Strings को multiply करके बार-बार दोहराया जा सकता है।"
   ]
  },
  {
   "cell_type": "markdown",
   "metadata": {},
   "source": [
    "s = \"Hi!\"\n",
    "print(s * 3)  # Output: Hi! Hi! Hi! \n"
   ]
  },
  {
   "cell_type": "markdown",
   "metadata": {},
   "source": [
    "Step 10: Membership Test\n",
    "in और not in operators का उपयोग करके देख सकते हैं कि string में कोई substring है या नहीं।"
   ]
  },
  {
   "cell_type": "code",
   "execution_count": null,
   "metadata": {},
   "outputs": [],
   "source": [
    "s = \"Python is great\"\n",
    "print(\"Python\" in s)    # Output: True\n",
    "print(\"Java\" not in s)  # Output: True\n"
   ]
  },
  {
   "cell_type": "markdown",
   "metadata": {},
   "source": [
    "Step 11: String Methods - Uppercase\n",
    "String को uppercase में बदलने के लिए upper() method का उपयोग करें।\n",
    "\n",
    "python\n",
    "Copy code\n"
   ]
  },
  {
   "cell_type": "markdown",
   "metadata": {},
   "source": [
    "s = \"python\"\n",
    "print(s.upper())  # Output: PYTHON\n"
   ]
  },
  {
   "cell_type": "markdown",
   "metadata": {},
   "source": [
    "Step 12: String Methods - Lowercase\n",
    "String को lowercase में बदलने के लिए lower() method का उपयोग करें।\n",
    "\n",
    "python\n",
    "Copy code\n"
   ]
  },
  {
   "cell_type": "code",
   "execution_count": null,
   "metadata": {},
   "outputs": [],
   "source": [
    "s = \"PYTHON\"\n",
    "print(s.lower())  # Output: python\n"
   ]
  },
  {
   "cell_type": "markdown",
   "metadata": {},
   "source": [
    "Step 13: String Methods - Strip\n",
    "Extra spaces हटाने के लिए strip() method का उपयोग करें।"
   ]
  },
  {
   "cell_type": "code",
   "execution_count": null,
   "metadata": {},
   "outputs": [],
   "source": [
    "s = \"   Hello Python   \"\n",
    "print(s.strip())  # Output: Hello Python\n"
   ]
  },
  {
   "cell_type": "markdown",
   "metadata": {},
   "source": [
    "Step 14: Replace Substring\n",
    "String के एक हिस्से को दूसरे से बदलने के लिए replace() method।"
   ]
  },
  {
   "cell_type": "code",
   "execution_count": null,
   "metadata": {},
   "outputs": [],
   "source": [
    "s = \"I like Python\"\n",
    "print(s.replace(\"Python\", \"Java\"))  # Output: I like Java\n"
   ]
  },
  {
   "cell_type": "markdown",
   "metadata": {},
   "source": [
    "Step 15: String Split"
   ]
  },
  {
   "cell_type": "code",
   "execution_count": null,
   "metadata": {},
   "outputs": [],
   "source": [
    "s = \"Python,Java,C++\"\n",
    "print(s.split(\",\"))  # Output: ['Python', 'Java', 'C++']\n"
   ]
  },
  {
   "cell_type": "markdown",
   "metadata": {},
   "source": [
    "Step 16: String Join\n",
    "Strings की list को एक single string में जोड़ने के लिए join() method।"
   ]
  },
  {
   "cell_type": "code",
   "execution_count": null,
   "metadata": {},
   "outputs": [],
   "source": [
    "words = [\"Python\", \"is\", \"fun\"]\n",
    "print(\" \".join(words))  # Output: Python is fun\n"
   ]
  },
  {
   "cell_type": "markdown",
   "metadata": {},
   "source": [
    "Step 17: Check if String Starts or Ends\n",
    "String किसी specific character से शुरू या खत्म होती है, यह जानने के लिए startswith() और endswith() का उपयोग करें।"
   ]
  },
  {
   "cell_type": "code",
   "execution_count": null,
   "metadata": {},
   "outputs": [],
   "source": [
    "s = \"Python programming\"\n",
    "print(s.startswith(\"Python\"))  # Output: True\n",
    "print(s.endswith(\"ing\"))       # Output: True\n"
   ]
  },
  {
   "cell_type": "markdown",
   "metadata": {},
   "source": [
    "Step 18: Find Substring\n",
    "String के अंदर किसी substring की location पता करने के लिए find()।"
   ]
  },
  {
   "cell_type": "code",
   "execution_count": null,
   "metadata": {},
   "outputs": [],
   "source": [
    "s = \"I like Python\"\n",
    "print(s.find(\"Python\"))  # Output: 7\n"
   ]
  },
  {
   "cell_type": "markdown",
   "metadata": {},
   "source": [
    "Step 19: String Formatting\n",
    "Strings में dynamic values insert करने के लिए f-strings का उपयोग करें।\n",
    "\n",
    "python\n",
    "Copy code\n"
   ]
  },
  {
   "cell_type": "markdown",
   "metadata": {},
   "source": [
    "name = \"Alice\"\n",
    "age = 25\n",
    "print(f\"My name is {name} and I am {age} years old.\")  # Output: My name is Alice and I am 25 years old.\n"
   ]
  },
  {
   "cell_type": "markdown",
   "metadata": {},
   "source": [
    "Step 20: Escape Characters\n",
    "Special characters (जैसे newline या quotes) insert करने के लिए escape characters का उपयोग करें।"
   ]
  },
  {
   "cell_type": "code",
   "execution_count": null,
   "metadata": {},
   "outputs": [],
   "source": [
    "s = \"He said, \\\"Python is amazing!\\\"\"\n",
    "print(s)  # Output: He said, \"Python is amazing!\"\n"
   ]
  }
 ],
 "metadata": {
  "kernelspec": {
   "display_name": "rag",
   "language": "python",
   "name": "python3"
  },
  "language_info": {
   "name": "python",
   "version": "3.9.21"
  }
 },
 "nbformat": 4,
 "nbformat_minor": 2
}
