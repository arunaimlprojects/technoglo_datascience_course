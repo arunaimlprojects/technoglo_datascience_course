{
 "cells": [
  {
   "cell_type": "markdown",
   "id": "fcaf4cd8",
   "metadata": {},
   "source": [
    "### 1. What is the output of the following code snippet?\n",
    "\n",
    "```python\n",
    "x = 5\n",
    "y = 3\n",
    "print(x // y)\n",
    "```\n",
    "- 1\n",
    "- 1.67\n",
    "- 2\n",
    "- 2.5\n",
    "\n",
    "# clip"
   ]
  },
  {
   "cell_type": "markdown",
   "id": "6edbea8f",
   "metadata": {},
   "source": [
    "### 2. Which of the following operators is used for exponentiation in Python?\n",
    "- *\n",
    "- **\n",
    "- ^\n",
    "- //\n",
    "\n",
    "# clip"
   ]
  },
  {
   "cell_type": "markdown",
   "id": "9e569e13",
   "metadata": {},
   "source": [
    "### 3. What is the output of the following code snippet?\n",
    "\n",
    "```python\n",
    "list1 = [1, 2, 3]\n",
    "list2 = list1\n",
    "list2.append(4)\n",
    "print(list1)\n",
    "```\n",
    "- [1, 2, 3]\n",
    "- [1, 2, 3, 4]\n",
    "- [1, 2, 3]; [4]\n",
    "- [1, 2, 3], 4\n",
    "\n",
    "# clip"
   ]
  },
  {
   "cell_type": "markdown",
   "id": "30ea54a6",
   "metadata": {},
   "source": [
    "### 4. What is the result of the following boolean expression?\n",
    "\n",
    "```python\n",
    "(5 > 3) and (10 < 5)\n",
    "```\n",
    "- True\n",
    "- False\n",
    "- Error\n",
    "- None\n",
    "\n",
    "# clip"
   ]
  },
  {
   "cell_type": "markdown",
   "id": "02d8b44b",
   "metadata": {},
   "source": [
    "### 5. Which of the following methods is used to remove the last element from a list in Python?\n",
    "- remove()\n",
    "- delete()\n",
    "- pop()\n",
    "- discard()\n",
    "\n",
    "# clip"
   ]
  },
  {
   "cell_type": "markdown",
   "id": "48b73cfb",
   "metadata": {},
   "source": [
    "### 6. What does the 'len()' function do in Python?\n",
    "- Returns the first element of a list\n",
    "- Returns the last element of a list\n",
    "- Returns the number of items in an object\n",
    "- Returns the sum of all elements in a list\n",
    "\n",
    "# clip"
   ]
  },
  {
   "cell_type": "markdown",
   "id": "71786a68",
   "metadata": {},
   "source": [
    "### 7. What is the result of the following code snippet?\n",
    "\n",
    "```python\n",
    "a = [1, 2, 3]\n",
    "b = a\n",
    "a.append(4)\n",
    "print(b)\n",
    "```\n",
    "- [1, 2, 3]\n",
    "- [1, 2, 3, 4]\n",
    "- [1, 2, 3]; [4]\n",
    "- [1, 2, 3], 4\n",
    "\n",
    "# clip"
   ]
  },
  {
   "cell_type": "markdown",
   "id": "7d61e9a5",
   "metadata": {},
   "source": [
    "### 8. What is the output of the following code snippet?\n",
    "\n",
    "```python\n",
    "print('Python'[1:4])\n",
    "```\n",
    "- Pyt\n",
    "- ytho\n",
    "- thon\n",
    "- yth\n",
    "\n",
    "# clip"
   ]
  },
  {
   "cell_type": "markdown",
   "id": "3939192e",
   "metadata": {},
   "source": [
    "### 9. What is the result of the following boolean expression?\n",
    "\n",
    "```python\n",
    "(not False) or (not True)\n",
    "```\n",
    "- True\n",
    "- False\n",
    "- Error\n",
    "- None\n",
    "\n",
    "# clip"
   ]
  },
  {
   "cell_type": "markdown",
   "id": "54a10ce1",
   "metadata": {},
   "source": [
    "### 10. What is the output of the following code snippet?\n",
    "\n",
    "```python\n",
    "x = 10\n",
    "if x > 5:\n",
    "    print('x is greater than 5')\n",
    "else:\n",
    "    print('x is not greater than 5')\n",
    "```\n",
    "- x is not greater than 5\n",
    "- x is greater than 5\n",
    "- 10\n",
    "- A syntax error\n",
    "\n",
    "# clip"
   ]
  }
 ],
 "metadata": {
  "kernelspec": {
   "display_name": "rag",
   "language": "python",
   "name": "python3"
  },
  "language_info": {
   "name": "python",
   "version": "3.9.21"
  }
 },
 "nbformat": 4,
 "nbformat_minor": 5
}
