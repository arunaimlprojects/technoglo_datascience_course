{
 "cells": [
  {
   "cell_type": "markdown",
   "id": "b2935567",
   "metadata": {},
   "source": [
    "### 1. What is the purpose of indentation in Python?"
   ]
  },
  {
   "cell_type": "code",
   "execution_count": null,
   "id": "ccc466fe",
   "metadata": {},
   "outputs": [],
   "source": [
    "# Your answer here\n",
    "\n",
    "# clip"
   ]
  },
  {
   "cell_type": "markdown",
   "id": "fafbe84a",
   "metadata": {},
   "source": [
    "### 2. How do you comment multiple lines in Python?"
   ]
  },
  {
   "cell_type": "code",
   "execution_count": null,
   "id": "2947efb3",
   "metadata": {},
   "outputs": [],
   "source": [
    "# You can comment multiple lines using triple quotes or by using # for each line.\n",
    "# clip"
   ]
  },
  {
   "cell_type": "markdown",
   "id": "bb15a087",
   "metadata": {},
   "source": [
    "### 3. Write a Python code to swap two variables without using a third variable."
   ]
  },
  {
   "cell_type": "code",
   "execution_count": null,
   "id": "50bd093e",
   "metadata": {},
   "outputs": [],
   "source": [
    "# Example:\n",
    "a, b = 5, 10\n",
    "a, b = b, a\n",
    "# Now a is 10, and b is 5.\n",
    "# clip"
   ]
  },
  {
   "cell_type": "markdown",
   "id": "4d2cfdfa",
   "metadata": {},
   "source": [
    "### 4. Explain the difference between '==' and 'is' in Python."
   ]
  },
  {
   "cell_type": "code",
   "execution_count": null,
   "id": "f2aef52c",
   "metadata": {},
   "outputs": [],
   "source": [
    "# '==' checks for value equality, while 'is' checks for object identity.\n",
    "# Example:\n",
    "# a = [1, 2]; b = [1, 2]\n",
    "# a == b --> True (Values are equal)\n",
    "# a is b --> False (Different objects in memory)\n",
    "# clip"
   ]
  },
  {
   "cell_type": "markdown",
   "id": "aedd91b5",
   "metadata": {},
   "source": [
    "### 5. What are the basic data types in Python?"
   ]
  },
  {
   "cell_type": "code",
   "execution_count": null,
   "id": "a2d1acbf",
   "metadata": {},
   "outputs": [],
   "source": [
    "# Common data types:\n",
    "# - int, float, str, list, tuple, dict, set, bool, NoneType\n",
    "# clip"
   ]
  },
  {
   "cell_type": "markdown",
   "id": "53f751d8",
   "metadata": {},
   "source": [
    "### 6. How can you create a function in Python?"
   ]
  },
  {
   "cell_type": "code",
   "execution_count": null,
   "id": "c7ed33a7",
   "metadata": {},
   "outputs": [],
   "source": [
    "# Example:\n",
    "def my_function():\n",
    "    pass  # Replace 'pass' with function body\n",
    "# clip"
   ]
  },
  {
   "cell_type": "markdown",
   "id": "cc396bd6",
   "metadata": {},
   "source": [
    "### 7. What is the use of 'import' keyword in Python?"
   ]
  },
  {
   "cell_type": "code",
   "execution_count": null,
   "id": "3bf1cde2",
   "metadata": {},
   "outputs": [],
   "source": [
    "# 'import' is used to include external modules in the code.\n",
    "# Example: import math\n",
    "# clip"
   ]
  },
  {
   "cell_type": "markdown",
   "id": "d4fc3c6d",
   "metadata": {},
   "source": [
    "### 8. Explain the concept of list comprehension in Python with an example."
   ]
  },
  {
   "cell_type": "code",
   "execution_count": null,
   "id": "08aea7ef",
   "metadata": {},
   "outputs": [],
   "source": [
    "# List comprehension is a concise way to create lists.\n",
    "# Example:\n",
    "# squares = [x**2 for x in range(5)]\n",
    "# clip"
   ]
  },
  {
   "cell_type": "markdown",
   "id": "55ff610b",
   "metadata": {},
   "source": [
    "### 9. Write a Python function to calculate the factorial of a number using recursion."
   ]
  },
  {
   "cell_type": "code",
   "execution_count": null,
   "id": "98bba272",
   "metadata": {},
   "outputs": [],
   "source": [
    "# Example:\n",
    "def factorial(n):\n",
    "    if n == 0:\n",
    "        return 1\n",
    "    else:\n",
    "        return n * factorial(n - 1)\n",
    "# clip"
   ]
  },
  {
   "cell_type": "markdown",
   "id": "f3a28bae",
   "metadata": {},
   "source": [
    "### 10. What is the purpose of the 'pass' statement in Python?"
   ]
  },
  {
   "cell_type": "code",
   "execution_count": null,
   "id": "95252089",
   "metadata": {},
   "outputs": [],
   "source": [
    "# 'pass' is a placeholder statement. It allows code to run without any action.\n",
    "# Example:\n",
    "def my_function():\n",
    "    pass\n",
    "# clip"
   ]
  },
  {
   "cell_type": "markdown",
   "id": "83be6ddb",
   "metadata": {},
   "source": [
    "### 11. Explain the difference between local and global variables in Python."
   ]
  },
  {
   "cell_type": "code",
   "execution_count": null,
   "id": "b25b58cb",
   "metadata": {},
   "outputs": [],
   "source": [
    "# Local variables are defined inside a function, and their scope is limited to that function.\n",
    "# Global variables are defined outside any function and can be accessed anywhere in the file.\n",
    "# clip"
   ]
  },
  {
   "cell_type": "markdown",
   "id": "95b51f20",
   "metadata": {},
   "source": [
    "### 12. Write a Python program to find the largest element in a list."
   ]
  },
  {
   "cell_type": "code",
   "execution_count": null,
   "id": "5dbdc9be",
   "metadata": {},
   "outputs": [],
   "source": [
    "# Example:\n",
    "def find_largest(numbers):\n",
    "    return max(numbers)\n",
    "\n",
    "# clip"
   ]
  }
 ],
 "metadata": {},
 "nbformat": 4,
 "nbformat_minor": 5
}